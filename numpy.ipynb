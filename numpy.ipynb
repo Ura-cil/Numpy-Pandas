{
 "cells": [
  {
   "cell_type": "markdown",
   "id": "b64f0eb6",
   "metadata": {},
   "source": [
    "##phase1"
   ]
  },
  {
   "cell_type": "code",
   "execution_count": 1,
   "id": "bac49932",
   "metadata": {},
   "outputs": [
    {
     "name": "stdout",
     "output_type": "stream",
     "text": [
      "[1 2 3 4 5]\n",
      "[[1 2 3]\n",
      " [4 5 6]]\n"
     ]
    }
   ],
   "source": [
    "import numpy as np\n",
    "\n",
    "arr = np.array([1,2,3,4,5])\n",
    "print(arr)\n",
    "arr1 = np.array([[1,2,3],[4,5,6]])\n",
    "print(arr1)"
   ]
  },
  {
   "cell_type": "markdown",
   "id": "81a82269",
   "metadata": {},
   "source": [
    "time module"
   ]
  },
  {
   "cell_type": "code",
   "execution_count": 2,
   "id": "0d637c18",
   "metadata": {},
   "outputs": [
    {
     "name": "stdout",
     "output_type": "stream",
     "text": [
      "[1, 2, 3, 1, 2, 3]\n",
      "[2 4 6]\n",
      "0.7817578315734863\n",
      "0.07642889022827148\n"
     ]
    }
   ],
   "source": [
    "py_list = [1,2,3]\n",
    "print(py_list*2)\n",
    "\n",
    "\n",
    "np_array = np.array([1,2,3])\n",
    "print(np_array*2)\n",
    "\n",
    "import time \n",
    "start = time.time()\n",
    "py_list = [i*2 for i in range(10000000)]\n",
    "print (time.time()-start)\n",
    "\n",
    "start = time.time()\n",
    "np_array = np.arange(10000000)*2\n",
    "print (time.time()-start)"
   ]
  },
  {
   "cell_type": "markdown",
   "id": "931063f0",
   "metadata": {},
   "source": [
    "zeros ones full\n"
   ]
  },
  {
   "cell_type": "code",
   "execution_count": 3,
   "id": "26f765d2",
   "metadata": {},
   "outputs": [
    {
     "name": "stdout",
     "output_type": "stream",
     "text": [
      "[[0. 0. 0. 0.]\n",
      " [0. 0. 0. 0.]\n",
      " [0. 0. 0. 0.]]\n",
      "[[1. 1. 1.]\n",
      " [1. 1. 1.]]\n",
      "[[7 7 7]\n",
      " [7 7 7]]\n"
     ]
    }
   ],
   "source": [
    "zeros = np.zeros((3,4))\n",
    "print(zeros)\n",
    "ones = np.ones((2,3))\n",
    "print(ones)\n",
    "full = np.full((2,3),7)\n",
    "print(full)"
   ]
  },
  {
   "cell_type": "markdown",
   "id": "758d93ad",
   "metadata": {},
   "source": [
    "random sequence"
   ]
  },
  {
   "cell_type": "code",
   "execution_count": 4,
   "id": "10d4f948",
   "metadata": {},
   "outputs": [
    {
     "name": "stdout",
     "output_type": "stream",
     "text": [
      "[[0.83135391 0.88277258 0.92069675]\n",
      " [0.02822956 0.08217717 0.46744877]]\n",
      "[ 0  2  4  6  8 10]\n"
     ]
    }
   ],
   "source": [
    "random = np.random.random((2,3))\n",
    "print(random)\n",
    "\n",
    "sequence = np.arange(0,11,2)\n",
    "print(sequence)"
   ]
  },
  {
   "cell_type": "markdown",
   "id": "260ed46f",
   "metadata": {},
   "source": [
    "vector matrix tensor"
   ]
  },
  {
   "cell_type": "code",
   "execution_count": 5,
   "id": "f79f17a3",
   "metadata": {},
   "outputs": [
    {
     "name": "stdout",
     "output_type": "stream",
     "text": [
      "[1 2 3]\n",
      "[[1 2 3]\n",
      " [4 5 6]]\n",
      "[[[1 2]\n",
      "  [3 4]]\n",
      "\n",
      " [[5 6]\n",
      "  [7 8]]]\n"
     ]
    }
   ],
   "source": [
    "vector = np.array([1,2,3])\n",
    "print(vector)\n",
    "\n",
    "\n",
    "matrix = np.array([[1,2,3],\n",
    "                  [4,5,6]])\n",
    "print(matrix)\n",
    "tensor = np.array([[[1,2],[3,4]],[[5,6],[7,8]]])\n",
    "print(tensor)"
   ]
  },
  {
   "cell_type": "markdown",
   "id": "07db52ec",
   "metadata": {},
   "source": [
    "array properties"
   ]
  },
  {
   "cell_type": "code",
   "execution_count": 6,
   "id": "ca4bb580",
   "metadata": {},
   "outputs": [
    {
     "name": "stdout",
     "output_type": "stream",
     "text": [
      "(2, 3)\n",
      "2\n",
      "6\n",
      "float64\n"
     ]
    }
   ],
   "source": [
    "arr = np.array([[1,2,3],[4,5,6.8]])\n",
    "print(arr.shape)\n",
    "print(arr.ndim)\n",
    "print(arr.size)\n",
    "print(arr.dtype)"
   ]
  },
  {
   "cell_type": "markdown",
   "id": "a3a9e13f",
   "metadata": {},
   "source": [
    "array reshapimg\n"
   ]
  },
  {
   "cell_type": "code",
   "execution_count": 7,
   "id": "2815182b",
   "metadata": {},
   "outputs": [
    {
     "name": "stdout",
     "output_type": "stream",
     "text": [
      "[ 0  1  2  3  4  5  6  7  8  9 10 11]\n",
      "[[ 0  1  2  3  4  5]\n",
      " [ 6  7  8  9 10 11]]\n",
      "[ 0  1  2  3  4  5  6  7  8  9 10 11]\n",
      "[ 0  1  2  3  4  5  6  7  8  9 10 11]\n"
     ]
    }
   ],
   "source": [
    "arr = np.arange(12)\n",
    "print(arr)\n",
    "reshaped  = arr.reshape((2,6))\n",
    "print(reshaped)\n",
    "flat = reshaped.flatten()\n",
    "print(flat)\n",
    "raveled = reshaped.ravel()\n",
    "print(raveled)\n"
   ]
  },
  {
   "cell_type": "markdown",
   "id": "dc31c7fb",
   "metadata": {},
   "source": [
    "phase2"
   ]
  },
  {
   "cell_type": "code",
   "execution_count": 8,
   "id": "f077105b",
   "metadata": {},
   "outputs": [
    {
     "name": "stdout",
     "output_type": "stream",
     "text": [
      "[3 4 5 6 7]\n",
      "[2 4 6 8]\n",
      "8\n",
      "2\n",
      "[4 5 6]\n",
      "[2 5 8]\n"
     ]
    }
   ],
   "source": [
    "import numpy as np\n",
    "\n",
    "arr = np.array([1,2,3,4,5,6,7,8,9,10])\n",
    "print(arr[2:7])\n",
    "print(arr[1:8:2])\n",
    "print(arr[-3])\n",
    "\n",
    "arr1 = np.array([[1,2,3],[4,5,6],[7,8,9]])\n",
    "print(arr1[0,1])\n",
    "print(arr1[1])\n",
    "print(arr1[:,1])"
   ]
  },
  {
   "cell_type": "markdown",
   "id": "8bb09a31",
   "metadata": {},
   "source": [
    "sortting\n"
   ]
  },
  {
   "cell_type": "code",
   "execution_count": 9,
   "id": "186f1e4c",
   "metadata": {},
   "outputs": [
    {
     "name": "stdout",
     "output_type": "stream",
     "text": [
      "[1 1 4 5 5 6 7 9]\n",
      "[[1 1]\n",
      " [2 2]\n",
      " [3 3]]\n",
      "[[1 3]\n",
      " [1 2]\n",
      " [2 3]]\n"
     ]
    }
   ],
   "source": [
    "arr = np.array([1,5,4,7,1,5,6,9])\n",
    "print(np.sort(arr))\n",
    "arr1 = np.array([[3,1],[1,2],[2,3]])\n",
    "print(np.sort(arr1,axis = 0))\n",
    "print(np.sort(arr1,axis = 1))"
   ]
  },
  {
   "cell_type": "markdown",
   "id": "72dc0060",
   "metadata": {},
   "source": [
    "##filtering"
   ]
  },
  {
   "cell_type": "code",
   "execution_count": 10,
   "id": "e80aafef",
   "metadata": {},
   "outputs": [
    {
     "name": "stdout",
     "output_type": "stream",
     "text": [
      "[ 2  4  6  8 10]\n",
      "[ 6  7  8  9 10]\n"
     ]
    }
   ],
   "source": [
    "num = np.array([1,2,3,4,5,6,7,8,9,10])\n",
    "print(num[num%2==0])\n",
    "mask = num>5\n",
    "print(num[mask])"
   ]
  },
  {
   "cell_type": "markdown",
   "id": "6424f905",
   "metadata": {},
   "source": [
    "index"
   ]
  },
  {
   "cell_type": "code",
   "execution_count": 11,
   "id": "3f16eb0c",
   "metadata": {},
   "outputs": [
    {
     "name": "stdout",
     "output_type": "stream",
     "text": [
      "[1 3 5]\n",
      "[ 6  7  8  9 10]\n",
      "[ 1  2  3  4  5 12 14 16 18 20]\n"
     ]
    }
   ],
   "source": [
    "index = [0,2,4]\n",
    "print(num[index])\n",
    "\n",
    "where = np.where(num>5)\n",
    "print(num[where])\n",
    "wher = np.where(num>5,num*2,num)\n",
    "print(wher)\n"
   ]
  },
  {
   "cell_type": "markdown",
   "id": "85d45bda",
   "metadata": {},
   "source": [
    "data add and remove"
   ]
  },
  {
   "cell_type": "code",
   "execution_count": 12,
   "id": "24eb4755",
   "metadata": {},
   "outputs": [
    {
     "name": "stdout",
     "output_type": "stream",
     "text": [
      "[1 2 3 4 5 6]\n",
      "[5 7 9]\n"
     ]
    }
   ],
   "source": [
    "import numpy as np\n",
    "arr = np.array([1,2,3])\n",
    "arr1 = np.array([4,5,6])\n",
    "add = np.concatenate((arr,arr1))\n",
    "print(add)\n",
    "print(arr+arr1)"
   ]
  },
  {
   "cell_type": "markdown",
   "id": "9ce97c89",
   "metadata": {},
   "source": [
    "compatibilty"
   ]
  },
  {
   "cell_type": "code",
   "execution_count": 13,
   "id": "e9fe9359",
   "metadata": {},
   "outputs": [
    {
     "name": "stdout",
     "output_type": "stream",
     "text": [
      "True\n"
     ]
    }
   ],
   "source": [
    "# import numpy as np\n",
    "a = np.array([1,2,3])\n",
    "b = np.array([4,5,6])\n",
    "c = np.array([7,8,9])\n",
    "print(a.shape == b.shape)\n"
   ]
  },
  {
   "cell_type": "markdown",
   "id": "89942a49",
   "metadata": {},
   "source": [
    "delete"
   ]
  },
  {
   "cell_type": "code",
   "execution_count": 14,
   "id": "d77affc9",
   "metadata": {},
   "outputs": [
    {
     "name": "stdout",
     "output_type": "stream",
     "text": [
      "[1 2 4]\n"
     ]
    }
   ],
   "source": [
    "arr = np.array([1,2,3,4])\n",
    "print(np.delete(arr,2))"
   ]
  },
  {
   "cell_type": "markdown",
   "id": "d068dcc2",
   "metadata": {},
   "source": [
    "phase 3"
   ]
  },
  {
   "cell_type": "code",
   "execution_count": 15,
   "id": "536c5c1e",
   "metadata": {},
   "outputs": [
    {
     "name": "stdout",
     "output_type": "stream",
     "text": [
      "(5, 5)\n",
      "[[150000 180000 220000 250000]\n",
      " [120000 140000 160000 190000]\n",
      " [200000 230000 260000 300000]\n",
      " [180000 210000 240000 270000]\n",
      " [160000 185000 205000 230000]]\n"
     ]
    }
   ],
   "source": [
    "import numpy as np\n",
    "sales_data = np.array([\n",
    "    [1, 150000, 180000, 220000, 250000],  # Paradise Biryani\n",
    "    [2, 120000, 140000, 160000, 190000],  # Beijing Bites\n",
    "    [3, 200000, 230000, 260000, 300000],  # Pizza Hub\n",
    "    [4, 180000, 210000, 240000, 270000],  # Burger Point\n",
    "    [5, 160000, 185000, 205000, 230000]   # Chai Point\n",
    "])\n",
    "print(sales_data.shape)\n",
    "print(sales_data[:,1:])\n",
    "\n",
    "\n"
   ]
  },
  {
   "cell_type": "markdown",
   "id": "30c783f5",
   "metadata": {},
   "source": [
    "total sales per year"
   ]
  },
  {
   "cell_type": "code",
   "execution_count": 16,
   "id": "f7b8966e",
   "metadata": {},
   "outputs": [
    {
     "name": "stdout",
     "output_type": "stream",
     "text": [
      "[800001 610002 990003 900004 780005]\n",
      "4080015\n",
      "[ 810000  945000 1085000 1240000]\n",
      "4080000\n"
     ]
    }
   ],
   "source": [
    "t = np.sum(sales_data,axis=1)\n",
    "print(t)\n",
    "print(np.sum(t))\n",
    "total =np.sum(sales_data[:,1:],axis = 0)\n",
    "print(total)\n",
    "print(np.sum(total))"
   ]
  },
  {
   "cell_type": "markdown",
   "id": "29eccff3",
   "metadata": {},
   "source": [
    "min sales per restaurant"
   ]
  },
  {
   "cell_type": "code",
   "execution_count": 17,
   "id": "d2089e3b",
   "metadata": {},
   "outputs": [
    {
     "name": "stdout",
     "output_type": "stream",
     "text": [
      "[150000 120000 200000 180000 160000]\n",
      "810000\n"
     ]
    }
   ],
   "source": [
    "min=np.min(sales_data[:,1:],axis =1)\n",
    "print(min)\n",
    "print(np.sum(min))\n"
   ]
  },
  {
   "cell_type": "markdown",
   "id": "1427b395",
   "metadata": {},
   "source": [
    "max sales pear year"
   ]
  },
  {
   "cell_type": "code",
   "execution_count": 18,
   "id": "aeeaf65e",
   "metadata": {},
   "outputs": [
    {
     "name": "stdout",
     "output_type": "stream",
     "text": [
      "[200000 230000 260000 300000]\n",
      "990000\n"
     ]
    }
   ],
   "source": [
    "max = np.max(sales_data[:,1:],axis = 0)\n",
    "print(max)\n",
    "print(np.sum(max))\n"
   ]
  },
  {
   "cell_type": "markdown",
   "id": "6117dc63",
   "metadata": {},
   "source": [
    "avg sales"
   ]
  },
  {
   "cell_type": "code",
   "execution_count": 19,
   "id": "0ce87593",
   "metadata": {},
   "outputs": [
    {
     "name": "stdout",
     "output_type": "stream",
     "text": [
      "[200000. 152500. 247500. 225000. 195000.]\n"
     ]
    }
   ],
   "source": [
    "avg = np.mean(sales_data[:,1:],axis = 1)\n",
    "print(avg)\n"
   ]
  },
  {
   "cell_type": "markdown",
   "id": "aa6c3ef3",
   "metadata": {},
   "source": [
    "cumulative sakes"
   ]
  },
  {
   "cell_type": "code",
   "execution_count": 20,
   "id": "9cc0633a",
   "metadata": {},
   "outputs": [
    {
     "name": "stdout",
     "output_type": "stream",
     "text": [
      "[[150000 330000 550000 800000]\n",
      " [120000 260000 420000 610000]\n",
      " [200000 430000 690000 990000]\n",
      " [180000 390000 630000 900000]\n",
      " [160000 345000 550000 780000]]\n"
     ]
    }
   ],
   "source": [
    "cumsum = np.cumsum(sales_data[:,1:],axis = 1)\n",
    "print(cumsum)"
   ]
  },
  {
   "cell_type": "markdown",
   "id": "20649068",
   "metadata": {},
   "source": [
    "graph"
   ]
  },
  {
   "cell_type": "code",
   "execution_count": 25,
   "id": "f1e4b2e7",
   "metadata": {},
   "outputs": [
    {
     "data": {
      "image/png": "[encoded data removed]",
      "text/plain": [
       "<Figure size 1000x600 with 1 Axes>"
      ]
     },
     "metadata": {},
     "output_type": "display_data"
    }
   ],
   "source": [
    "import matplotlib.pyplot as plt\n",
    "plt.figure(figsize = (10,6))\n",
    "plt.plot(np.mean(cumsum,axis = 0))\n",
    "plt.title(\"Average cumalitive sales accross all restarurant\")\n",
    "plt.xlabel(\"years\")\n",
    "plt.ylabel(\"sales\")\n",
    "plt.grid(True)\n",
    "plt.show()\n"
   ]
  },
  {
   "cell_type": "markdown",
   "id": "c7cbad80",
   "metadata": {},
   "source": [
    "vectors"
   ]
  },
  {
   "cell_type": "code",
   "execution_count": 32,
   "id": "aed5f278",
   "metadata": {},
   "outputs": [
    {
     "name": "stdout",
     "output_type": "stream",
     "text": [
      "[ 7  9 11 13 15]\n",
      "[ 6 14 24 36 50]\n",
      "130\n",
      "0.26554161733900966\n"
     ]
    }
   ],
   "source": [
    "v1 = np.array([1,2,3,4,5])\n",
    "v2 = np.array([6,7,8,9,10])\n",
    "print(v1+v2)\n",
    "print(v1*v2)\n",
    "print(np.dot(v1,v2))\n",
    "angle = np.arccos(np.dot(v1,v2)/(np.linalg.norm(v1)*np.linalg.norm(v2)))\n",
    "print(angle)"
   ]
  },
  {
   "cell_type": "markdown",
   "id": "0f86ae4d",
   "metadata": {},
   "source": [
    "vector operation"
   ]
  },
  {
   "cell_type": "code",
   "execution_count": 34,
   "id": "d772bee1",
   "metadata": {},
   "outputs": [
    {
     "name": "stdout",
     "output_type": "stream",
     "text": [
      "['BIRYANI' 'CHINESE' 'PIZZA' 'BURGER' 'CAFE']\n"
     ]
    }
   ],
   "source": [
    "restaurant_types = np.array(['biryani', 'chinese', 'pizza', 'burger', 'cafe'])\n",
    "vectorized_upper = np.vectorize(str.upper)\n",
    "print(vectorized_upper(restaurant_types))"
   ]
  },
  {
   "cell_type": "markdown",
   "id": "0349ffff",
   "metadata": {},
   "source": [
    "broadcast"
   ]
  },
  {
   "cell_type": "code",
   "execution_count": 36,
   "id": "bded53ba",
   "metadata": {},
   "outputs": [
    {
     "name": "stdout",
     "output_type": "stream",
     "text": [
      "[[12500.         15000.         18333.33333333 20833.33333333]\n",
      " [10000.         11666.66666667 13333.33333333 15833.33333333]\n",
      " [16666.66666667 19166.66666667 21666.66666667 25000.        ]\n",
      " [15000.         17500.         20000.         22500.        ]\n",
      " [13333.33333333 15416.66666667 17083.33333333 19166.66666667]]\n"
     ]
    }
   ],
   "source": [
    "monthly_avg = sales_data[:,1:]/12\n",
    "print(monthly_avg)"
   ]
  },
  {
   "cell_type": "markdown",
   "id": "6e2df105",
   "metadata": {},
   "source": [
    "phase3"
   ]
  },
  {
   "cell_type": "code",
   "execution_count": null,
   "id": "29262706",
   "metadata": {},
   "outputs": [
    {
     "name": "stdout",
     "output_type": "stream",
     "text": [
      "[[1 2 3]\n",
      " [4 5 6]]\n"
     ]
    }
   ],
   "source": [
    "import numpy as np\n",
    "import matplotlib as plt\n",
    "\n",
    "# arr1 = np.array([[1,2,3],[4,5,6]])\n",
    "# arr2 = np.random.rand(3,3)\n",
    "# arr3 = np.zeros((4,4))\n",
    "\n",
    "\n",
    "\n",
    "# np.save('array1.npy',arr1)\n",
    "# np.save('array2.npy',arr2)\n",
    "# np.save('array3.npy',arr3)\n",
    "\n",
    "\n",
    "# print(np.load('array1.npy'))"
   ]
  },
  {
   "cell_type": "code",
   "execution_count": 12,
   "id": "e5e9c1ce",
   "metadata": {},
   "outputs": [
    {
     "ename": "AttributeError",
     "evalue": "module 'matplotlib' has no attribute 'figure'",
     "output_type": "error",
     "traceback": [
      "\u001b[31m---------------------------------------------------------------------------\u001b[39m",
      "\u001b[31mAttributeError\u001b[39m                            Traceback (most recent call last)",
      "\u001b[36mCell\u001b[39m\u001b[36m \u001b[39m\u001b[32mIn[12]\u001b[39m\u001b[32m, line 6\u001b[39m\n\u001b[32m      3\u001b[39m logo = np.load(\u001b[33m'\u001b[39m\u001b[33mnumpy-logo.npy\u001b[39m\u001b[33m'\u001b[39m)\n\u001b[32m      5\u001b[39m \u001b[38;5;66;03m# Display\u001b[39;00m\n\u001b[32m----> \u001b[39m\u001b[32m6\u001b[39m \u001b[43mplt\u001b[49m\u001b[43m.\u001b[49m\u001b[43mfigure\u001b[49m(figsize=(\u001b[32m10\u001b[39m, \u001b[32m5\u001b[39m))\n\u001b[32m      7\u001b[39m plt.subplot(\u001b[32m121\u001b[39m)\n\u001b[32m      8\u001b[39m plt.imshow(logo)\n",
      "\u001b[36mFile \u001b[39m\u001b[32md:\\Gaurav\\Numpy-Pandas\\venv\\Lib\\site-packages\\matplotlib\\_api\\__init__.py:218\u001b[39m, in \u001b[36mcaching_module_getattr.<locals>.__getattr__\u001b[39m\u001b[34m(name)\u001b[39m\n\u001b[32m    216\u001b[39m \u001b[38;5;28;01mif\u001b[39;00m name \u001b[38;5;129;01min\u001b[39;00m props:\n\u001b[32m    217\u001b[39m     \u001b[38;5;28;01mreturn\u001b[39;00m props[name].\u001b[34m__get__\u001b[39m(instance)\n\u001b[32m--> \u001b[39m\u001b[32m218\u001b[39m \u001b[38;5;28;01mraise\u001b[39;00m \u001b[38;5;167;01mAttributeError\u001b[39;00m(\n\u001b[32m    219\u001b[39m     \u001b[33mf\u001b[39m\u001b[33m\"\u001b[39m\u001b[33mmodule \u001b[39m\u001b[38;5;132;01m{\u001b[39;00m\u001b[38;5;28mcls\u001b[39m.\u001b[34m__module__\u001b[39m\u001b[38;5;132;01m!r}\u001b[39;00m\u001b[33m has no attribute \u001b[39m\u001b[38;5;132;01m{\u001b[39;00mname\u001b[38;5;132;01m!r}\u001b[39;00m\u001b[33m\"\u001b[39m)\n",
      "\u001b[31mAttributeError\u001b[39m: module 'matplotlib' has no attribute 'figure'"
     ]
    }
   ],
   "source": [
    "import matplotlib as plt\n",
    "try:\n",
    "    logo = np.load('numpy-logo.npy')\n",
    "\n",
    "    # Display\n",
    "    plt.figure(figsize=(10, 5))\n",
    "    plt.subplot(121)\n",
    "    plt.imshow(logo)\n",
    "    plt.title(\"Numpy logo\")\n",
    "    plt.grid(False)\n",
    "\n",
    "except FileNotFoundError:\n",
    "    print(\"numpy logo file not found\")"
   ]
  }
 ],
 "metadata": {
  "kernelspec": {
   "display_name": "venv",
   "language": "python",
   "name": "python3"
  },
  "language_info": {
   "codemirror_mode": {
    "name": "ipython",
    "version": 3
   },
   "file_extension": ".py",
   "mimetype": "text/x-python",
   "name": "python",
   "nbconvert_exporter": "python",
   "pygments_lexer": "ipython3",
   "version": "3.11.9"
  }
 },
 "nbformat": 4,
 "nbformat_minor": 5
}
