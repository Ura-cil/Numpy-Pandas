{
 "cells": [
  {
   "cell_type": "markdown",
   "id": "d9b124dd",
   "metadata": {},
   "source": [
    "1. Maximum and Minimum of Flattened Array\n",
    "\n",
    "Write a Python program to find the maximum and minimum value of a given flattened array.\n",
    "\n",
    "\n",
    "Expected Output:\n",
    "Original flattened array:\n",
    "[[0 1]\n",
    "[2 3]]\n",
    "Maximum value of the above flattened array:\n",
    "3\n",
    "Minimum value of the above flattened array:\n",
    "0"
   ]
  },
  {
   "cell_type": "code",
   "execution_count": 2,
   "id": "e683d51c",
   "metadata": {},
   "outputs": [
    {
     "name": "stdout",
     "output_type": "stream",
     "text": [
      "3\n",
      "0\n"
     ]
    }
   ],
   "source": [
    "import numpy as np\n",
    "a = np.arange(4).reshape((2,2))\n",
    "print(np.amax(a))\n",
    "print(np.amin(a)) \n"
   ]
  },
  {
   "cell_type": "markdown",
   "id": "b74da7bc",
   "metadata": {},
   "source": [
    "2. Minimum and Maximum Along Second Axis\n",
    "\n",
    "Write a NumPy program to get the minimum and maximum value of a given array along the second axis.\n",
    "\n",
    "Expected Output:\n",
    "Original array:\n",
    "[[0 1]\n",
    "[2 3]]\n",
    "Maximum value along the second axis:\n",
    "[1 3]\n",
    "Minimum value along the second axis:\n",
    "[0 2]"
   ]
  },
  {
   "cell_type": "code",
   "execution_count": 3,
   "id": "592f9649",
   "metadata": {},
   "outputs": [
    {
     "name": "stdout",
     "output_type": "stream",
     "text": [
      "[1 3]\n",
      "[0 2]\n"
     ]
    }
   ],
   "source": [
    "x = np.arange(4).reshape((2, 2))\n",
    "print(np.amax(x, 1))\n",
    "\n",
    "print(np.amin(x, 1)) \n"
   ]
  },
  {
   "cell_type": "markdown",
   "id": "d58b2644",
   "metadata": {},
   "source": [
    "3. Range (Difference Between Max and Min) Along Second Axis\n",
    "\n",
    "Write a NumPy program to calculate the difference between the maximum and the minimum values of a given array along the second axis.\n",
    "\n",
    "Expected Output:\n",
    "Original array:\n",
    "[[ 0 1 2 3 4 5]\n",
    "[ 6 7 8 9 10 11]]\n",
    "Difference between the maximum and the minimum values of the said array:\n",
    "[5 5]"
   ]
  },
  {
   "cell_type": "code",
   "execution_count": 5,
   "id": "66882bfe",
   "metadata": {},
   "outputs": [
    {
     "name": "stdout",
     "output_type": "stream",
     "text": [
      "[[ 0  1  2  3  4  5]\n",
      " [ 6  7  8  9 10 11]]\n",
      "[5 5]\n"
     ]
    }
   ],
   "source": [
    "x = np.arange(12).reshape((2, 6))\n",
    "print(x)\n",
    "\n",
    "r1 = np.ptp(x, 1)\n",
    "r2 = np.amax(x, 1) - np.amin(x, 1)\n",
    "assert np.allclose(r1, r2)\n",
    "print(r1) \n"
   ]
  },
  {
   "cell_type": "markdown",
   "id": "2cad9709",
   "metadata": {},
   "source": [
    "4. 80th Percentile Along Second Axis\n",
    "\n",
    "Write a NumPy program to compute the 80th percentile for all elements in a given array along the second axis.\n",
    "\n",
    "Expected Output:\n",
    "Original array:\n",
    "[1.0, 2.0, 3.0, 4.0]\n",
    "Largest integer smaller or equal to the division of the inputs:\n",
    "[ 0. 1. 2. 2.]"
   ]
  },
  {
   "cell_type": "code",
   "execution_count": 6,
   "id": "388611e0",
   "metadata": {},
   "outputs": [
    {
     "name": "stdout",
     "output_type": "stream",
     "text": [
      "[[ 0  1  2  3  4  5]\n",
      " [ 6  7  8  9 10 11]]\n",
      "[ 4. 10.]\n"
     ]
    }
   ],
   "source": [
    "x = np.arange(12).reshape((2, 6))\n",
    "print(x)\n",
    "r1 = np.percentile(x, 80, 1)\n",
    "print(r1) \n"
   ]
  },
  {
   "cell_type": "markdown",
   "id": "4e2aa01f",
   "metadata": {},
   "source": [
    "5. Median of Flattened Array\n",
    "\n",
    "Write a NumPy program to compute the median of flattened given array.\n",
    "\n",
    "Note: First array elements raised to powers from second array\n",
    "Expected Output:\n",
    "Original array:\n",
    "[[ 0 1 2 3 4 5]\n",
    "[ 6 7 8 9 10 11]]\n",
    "Median of said array:\n",
    "5.5"
   ]
  },
  {
   "cell_type": "code",
   "execution_count": 7,
   "id": "a4d4f35f",
   "metadata": {},
   "outputs": [
    {
     "name": "stdout",
     "output_type": "stream",
     "text": [
      "5.5\n"
     ]
    }
   ],
   "source": [
    "x = np.arange(12).reshape((2, 6))\n",
    "r1 = np.median(x)\n",
    "print(r1) \n"
   ]
  },
  {
   "cell_type": "markdown",
   "id": "20f16fd4",
   "metadata": {},
   "source": [
    "6. Weighted Average of an Array\n",
    "\n",
    "Write a NumPy program to compute the weighted of a given array.\n",
    "\n",
    "\n",
    "Sample Output:\n",
    "Original array:\n",
    "[0 1 2 3 4]\n",
    "Weighted average of the said array:\n",
    "2.6666666666666665"
   ]
  },
  {
   "cell_type": "code",
   "execution_count": 10,
   "id": "db1bea9c",
   "metadata": {},
   "outputs": [
    {
     "name": "stdout",
     "output_type": "stream",
     "text": [
      "2.6666666666666665\n",
      "2.666666666666667\n",
      "4.440892098500626e-16\n"
     ]
    }
   ],
   "source": [
    "x = np.arange(5)\n",
    "weights = np.arange(1, 6)\n",
    "r1 = np.average(x, weights=weights)\n",
    "r2 = (x * (weights / weights.sum())).sum()\n",
    "assert np.allclose(r1, r2)\n",
    "print(r1) \n",
    "print(r2)\n",
    "print(r2-r1)"
   ]
  },
  {
   "cell_type": "markdown",
   "id": "c1b2db8c",
   "metadata": {},
   "source": [
    "7. Mean, Standard Deviation, and Variance Along Second Axis\n",
    "\n",
    "Write a NumPy program to compute the mean, standard deviation, and variance of a given array along the second axis.\n",
    "\n",
    "Sample output:\n",
    "Original array:\n",
    "[0 1 2 3 4 5]\n",
    "Mean: 2.5\n",
    "std: 1\n",
    "variance: 2.9166666666666665"
   ]
  },
  {
   "cell_type": "code",
   "execution_count": 16,
   "id": "74fcb1e4",
   "metadata": {},
   "outputs": [
    {
     "name": "stdout",
     "output_type": "stream",
     "text": [
      "[0 1 2 3 4 5]\n",
      "2.5\n",
      "1.707825127659933\n",
      "2.9166666666666665\n"
     ]
    }
   ],
   "source": [
    "x = np.arange(6)\n",
    "print(x)\n",
    "print(np.mean(x))\n",
    "r1 =np.std(x)\n",
    "print(r1)\n",
    "\n",
    "print(np.var(x))\n"
   ]
  },
  {
   "cell_type": "markdown",
   "id": "5555f996",
   "metadata": {},
   "source": [
    "8. Covariance Matrix of Two Arrays\n",
    "\n",
    "Write a NumPy program to compute the covariance matrix of two given arrays.\n",
    "\n",
    "Sample Output:\n",
    "Original array1:\n",
    "[0 1 2]\n",
    "Original array1:\n",
    "[2 1 0]\n",
    "Covariance matrix of the said arrays:\n",
    "[[ 1. -1.]\n",
    "[-1. 1.]]"
   ]
  },
  {
   "cell_type": "code",
   "execution_count": 17,
   "id": "5c492d67",
   "metadata": {},
   "outputs": [
    {
     "name": "stdout",
     "output_type": "stream",
     "text": [
      "[[ 1. -1.]\n",
      " [-1.  1.]]\n"
     ]
    }
   ],
   "source": [
    "x = np.array([0, 1, 2])\n",
    "y = np.array([2, 1, 0])\n",
    "print( np.cov(x, y)) \n"
   ]
  },
  {
   "cell_type": "markdown",
   "id": "984c5782",
   "metadata": {},
   "source": [
    "9. Cross-Correlation of Two Arrays\n",
    "\n",
    "Write a NumPy program to compute cross-correlation of two given arrays.\n",
    "\n",
    "Sample Output:\n",
    "Original array1:\n",
    "[0 1 3]\n",
    "Original array1:\n",
    "[2 4 5]\n",
    "Cross-correlation of the said arrays:\n",
    "[19]"
   ]
  },
  {
   "cell_type": "code",
   "execution_count": 18,
   "id": "f5951e12",
   "metadata": {},
   "outputs": [
    {
     "name": "stdout",
     "output_type": "stream",
     "text": [
      "[19]\n"
     ]
    }
   ],
   "source": [
    "x = np.array([0, 1, 3])\n",
    "y = np.array([2, 4, 5])\n",
    "print(np.correlate(x,y))"
   ]
  },
  {
   "cell_type": "markdown",
   "id": "76280600",
   "metadata": {},
   "source": [
    "11. Element-wise Finite/Infinite/NaN Checks\n",
    "\n",
    "Write a NumPy program to test element-wise of a given array for finiteness (not infinity or not Not a Number), positive or negative infinity, for NaN, for NaT (not a time), for negative infinity, for positive infinity.\n",
    "\n",
    "Sample output:\n",
    "Test element-wise for finiteness (not infinity or not Not a Number):\n",
    "True\n",
    "True\n",
    "False\n",
    "Test element-wise for positive or negative infinity:\n",
    "True\n",
    "False\n",
    "True\n",
    "Test element-wise for NaN:\n",
    "[ True False False]\n",
    "Test element-wise for NaT (not a time):\n",
    "[ True False]\n",
    "Test element-wise for negative infinity:\n",
    "[1 0 0]\n",
    "Test element-wise for positive infinity:\n",
    "[0 0 1]"
   ]
  },
  {
   "cell_type": "code",
   "execution_count": 20,
   "id": "f03d7060",
   "metadata": {},
   "outputs": [
    {
     "name": "stdout",
     "output_type": "stream",
     "text": [
      "True\n",
      "True\n",
      "False\n",
      "True\n",
      "False\n",
      "[1 0 0]\n",
      "[0 0 1]\n"
     ]
    }
   ],
   "source": [
    "print(np.isfinite(1))      \n",
    "print(np.isfinite(0))     \n",
    "print(np.isfinite(np.nan))\n",
    "\n",
    "print(np.isinf(np.inf))    \n",
    "print(np.isinf(np.nan))    \n",
    "\n",
    "x = np.array([-np.inf, 0., np.inf])\n",
    "y = np.array([2, 2, 2])\n",
    "print(np.isneginf(x, y))\n",
    "\n",
    "x = np.array([-np.inf, 0., np.inf])\n",
    "y = np.array([2, 2, 2])\n",
    "print(np.isposinf(x, y))  "
   ]
  },
  {
   "cell_type": "markdown",
   "id": "d6721738",
   "metadata": {},
   "source": [
    "12. Weighted Average Along Specified Axis of a Flattened Array\n",
    "\n",
    "Write a Python NumPy program to compute the weighted average along the specified axis of a given flattened array.\n",
    "\n",
    "Sample output:\n",
    "Original flattened array:\n",
    "[[0 1 2]\n",
    "[3 4 5]\n",
    "[6 7 8]]\n",
    "Weighted average along the specified axis of the above flattened array:\n",
    "[1.2 4.2 7.2]"
   ]
  },
  {
   "cell_type": "code",
   "execution_count": 22,
   "id": "9000935b",
   "metadata": {},
   "outputs": [
    {
     "name": "stdout",
     "output_type": "stream",
     "text": [
      "[[0 1 2]\n",
      " [3 4 5]\n",
      " [6 7 8]]\n",
      "[1.2 4.2 7.2]\n"
     ]
    }
   ],
   "source": [
    "a = np.arange(9).reshape(3,3)\n",
    "print(a)\n",
    "print(np.average(a, axis=1, weights=[1./4, 2./4, 2./4])) \n",
    "\n"
   ]
  },
  {
   "cell_type": "markdown",
   "id": "5b31ef15",
   "metadata": {},
   "source": [
    "13. Count Occurrences Using bincount\n",
    "\n",
    "Write a Python program to count number of occurrences of each value in a given array of non-negative integers.\n",
    "\n",
    "Note: bincount() function count number of occurrences of each value in an array of non-negative integers in the range of the array between the minimum and maximum values including the values that did not occur.\n",
    "Sample Output:\n",
    "Original array:\n",
    "[0, 1, 6, 1, 4, 1, 2, 2, 7]\n",
    "Number of occurrences of each value in array:\n",
    "[1 3 2 0 1 0 1 1]"
   ]
  },
  {
   "cell_type": "code",
   "execution_count": 23,
   "id": "aef9212e",
   "metadata": {},
   "outputs": [
    {
     "name": "stdout",
     "output_type": "stream",
     "text": [
      "[0, 1, 6, 1, 4, 1, 2, 2, 7]\n",
      "[1 3 2 0 1 0 1 1]\n"
     ]
    }
   ],
   "source": [
    "array1 = [0, 1, 6, 1, 4, 1, 2, 2, 7]\n",
    "print(array1)\n",
    "print(np.bincount(array1)) \n"
   ]
  },
  {
   "cell_type": "markdown",
   "id": "b0df6508",
   "metadata": {},
   "source": [
    "14. Compute Histogram of Data Against Bins\n",
    "\n",
    "Write a NumPy program to compute the histogram of nums against the bins.\n",
    "\n",
    "Sample Output:\n",
    "nums: [0.5 0.7 1. 1.2 1.3 2.1]\n",
    "bins: [0 1 2 3]\n",
    "Result: (array([2, 3, 1], dtype=int64), array([0, 1, 2, 3]))\n"
   ]
  },
  {
   "cell_type": "code",
   "execution_count": 27,
   "id": "090db655",
   "metadata": {},
   "outputs": [
    {
     "name": "stdout",
     "output_type": "stream",
     "text": [
      "(array([2, 3, 1]), array([0, 1, 2, 3]))\n"
     ]
    },
    {
     "data": {
      "image/png": "[encoded data removed]",
      "text/plain": [
       "<Figure size 640x480 with 1 Axes>"
      ]
     },
     "metadata": {},
     "output_type": "display_data"
    }
   ],
   "source": [
    "import matplotlib.pyplot as plt\n",
    "nums = np.array([0.5, 0.7, 1.0, 1.2, 1.3, 2.1])\n",
    "bins = np.array([0, 1, 2, 3])\n",
    "print( np.histogram(nums, bins))\n",
    "plt.hist(nums, bins=bins)\n",
    "plt.show() \n"
   ]
  }
 ],
 "metadata": {
  "kernelspec": {
   "display_name": "venv",
   "language": "python",
   "name": "python3"
  },
  "language_info": {
   "codemirror_mode": {
    "name": "ipython",
    "version": 3
   },
   "file_extension": ".py",
   "mimetype": "text/x-python",
   "name": "python",
   "nbconvert_exporter": "python",
   "pygments_lexer": "ipython3",
   "version": "3.11.9"
  }
 },
 "nbformat": 4,
 "nbformat_minor": 5
}
